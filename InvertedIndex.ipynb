{
 "cells": [
  {
   "cell_type": "code",
   "execution_count": 11,
   "metadata": {},
   "outputs": [],
   "source": [
    "import re\n",
    "\n",
    "rdd = sc.wholeTextFiles(\"./mes1_06\")\n",
    "\n",
    "def wordTokenizer(line):\n",
    "    words = line.split()\n",
    "    words = [re.sub(r'^[^a-zA-Z0-9]+|[^a-zA-Z0-9]+$', '', word).lower() for word in words]\n",
    "    tokens = filter(lambda word: word, words)\n",
    "    return tokens\n",
    "\n",
    "words = rdd.flatMapValues(wordTokenizer)\n",
    "counts = words.map(lambda pair: (pair, 1)).reduceByKey(lambda a, b: a + b)\n",
    "invIndex = counts.map(lambda tupl: (tupl[0][1], tupl[0][0] +\":\"+ str(tupl[1]))).groupByKey().mapValues(list)\n",
    "\n",
    "invIndex.repartition(1).saveAsTextFile(\"invertedIndexOutput\")"
   ]
  }
 ],
 "metadata": {
  "kernelspec": {
   "display_name": "Python 3",
   "language": "python",
   "name": "python3"
  },
  "language_info": {
   "codemirror_mode": {
    "name": "ipython",
    "version": 3
   },
   "file_extension": ".py",
   "mimetype": "text/x-python",
   "name": "python",
   "nbconvert_exporter": "python",
   "pygments_lexer": "ipython3",
   "version": "3.7.0"
  }
 },
 "nbformat": 4,
 "nbformat_minor": 2
}
