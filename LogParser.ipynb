{
 "cells": [
  {
   "cell_type": "code",
   "execution_count": 1,
   "metadata": {},
   "outputs": [],
   "source": [
    "import re\n",
    "\n",
    "rdd = sc.textFile(\"./access_log\")"
   ]
  },
  {
   "cell_type": "code",
   "execution_count": 2,
   "metadata": {},
   "outputs": [],
   "source": [
    "#Parse file and filter not 2XX status code records\n",
    "\n",
    "def parseLogs(record):\n",
    "    ip = record[:record.find(' ')]\n",
    "    \n",
    "    date = record[record.find('[') + 1:\n",
    "                  record.find(':')]\n",
    "    \n",
    "    time = record[record.find(':') + 1:\n",
    "                  record.find(' ', record.find(':'))]\n",
    "    \n",
    "    begginingOfURL = record.find('/', record.find(']'))\n",
    "    \n",
    "    url = record[begginingOfURL:\n",
    "                 record.rfind(' ', begginingOfURL, record.rfind('\"'))]\n",
    "    \n",
    "    statusCode = record[record.rfind(' ', 0, record.rfind(' ')) + 1:\n",
    "                        record.rfind(' ')]\n",
    "    \n",
    "    return (url, [ip, date, time, statusCode])\n",
    "\n",
    "def filterOK(record):\n",
    "    return int(record[1][3]) // 100 == 2 \n",
    "\n",
    "filteredRDD = rdd.map(parseLogs).filter(filterOK)"
   ]
  },
  {
   "cell_type": "code",
   "execution_count": 3,
   "metadata": {},
   "outputs": [],
   "source": [
    "#Count URL accesses\n",
    "countByURLRDD = filteredRDD.map(lambda x: (x[0], 1)).reduceByKey(lambda a, b: a + b)\n",
    "moreThan10URLRDD = countByURLRDD.filter(lambda x: x[1] > 10)\n",
    "\n",
    "moreThan10URLRDD.sortByKey().repartition(1).saveAsTextFile(\"LogCountsByURL\")"
   ]
  },
  {
   "cell_type": "code",
   "execution_count": 4,
   "metadata": {},
   "outputs": [],
   "source": [
    "#Count by month accesses for year 2010\n",
    "countByMonthRDD = filteredRDD.filter(lambda x: int(x[1][1].split('/')[2]) == 2010) \\\n",
    "                                .map(lambda x: (x[1][1].split('/')[1], 1)) \\\n",
    "                                .reduceByKey(lambda a, b: a + b)\n",
    "\n",
    "countByMonthRDD.sortByKey().repartition(1).saveAsTextFile(\"LogCountsByMonth\")"
   ]
  },
  {
   "cell_type": "code",
   "execution_count": 7,
   "metadata": {},
   "outputs": [],
   "source": [
    "#Count by hour accesses for year 2010\n",
    "countByHourRDD = filteredRDD.filter(lambda x: int(x[1][1].split('/')[2]) == 2010) \\\n",
    "                                .map(lambda x: (x[1][2].split(':')[0], 1)) \\\n",
    "                                .reduceByKey(lambda a, b: a + b)\n",
    "\n",
    "countByHourRDD.sortByKey().repartition(1).saveAsTextFile(\"LogCountsByHour\")"
   ]
  },
  {
   "cell_type": "code",
   "execution_count": null,
   "metadata": {},
   "outputs": [],
   "source": []
  }
 ],
 "metadata": {
  "kernelspec": {
   "display_name": "Python 3",
   "language": "python",
   "name": "python3"
  },
  "language_info": {
   "codemirror_mode": {
    "name": "ipython",
    "version": 3
   },
   "file_extension": ".py",
   "mimetype": "text/x-python",
   "name": "python",
   "nbconvert_exporter": "python",
   "pygments_lexer": "ipython3",
   "version": "3.7.0"
  }
 },
 "nbformat": 4,
 "nbformat_minor": 2
}
