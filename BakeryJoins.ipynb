{
 "cells": [
  {
   "cell_type": "code",
   "execution_count": 1,
   "metadata": {},
   "outputs": [],
   "source": [
    "from pyspark.sql.types import *\n",
    "from pyspark.sql.functions import col, trim\n",
    "\n",
    "#Custom Schema\n",
    "customersSchema = StructType([StructField(\"Id\", IntegerType(), False), StructField(\"LastName\", StringType(), False), StructField(\"FirstName\", StringType(), False)])\n",
    "customersDF = spark.read.schema(customersSchema).load(\"./BAKERY/customers.csv\",\n",
    "                              format=\"csv\", \n",
    "                              sep=\",\",\n",
    "                              header=\"true\")\n",
    "\n",
    "customersDF = customersDF.withColumn(\"LastName\", trim(col(\"LastName\"))).withColumn(\"FirstName\", trim(col(\"FirstName\")))\n",
    "\n",
    "#Auto schema and trim\n",
    "goodsDF = spark.read.load(\"./BAKERY/goods.csv\",\n",
    "                              format=\"csv\", \n",
    "                              sep=\",\",\n",
    "                              inferSchema='true',\n",
    "                              header=\"true\")\n",
    "\n",
    "itemsDF = spark.read.load(\"./BAKERY/items.csv\",\n",
    "                              format=\"csv\", \n",
    "                              sep=\",\",\n",
    "                              inferSchema='true',\n",
    "                              header=\"true\")\n",
    "\n",
    "itemsDF = itemsDF.withColumn(\"Ordinal\", trim(col(\" Ordinal\"))).withColumn(\"Item\", trim(col(\" Item\"))).drop(\" Item\", \" Ordinal\")\n",
    "\n",
    "\n",
    "receiptsDF = spark.read.load(\"./BAKERY/receipts.csv\",\n",
    "                              format=\"csv\", \n",
    "                              sep=\",\",\n",
    "                              inferSchema='true',\n",
    "                              header=\"true\")\n",
    "\n",
    "receiptsDF = receiptsDF.withColumn(\"Date\", trim(col(\" Date\"))).withColumn(\"CustomerId\", col(\" CustomerId\").cast(IntegerType())).drop(\" Date\", \" CustomerId\")"
   ]
  },
  {
   "cell_type": "code",
   "execution_count": 2,
   "metadata": {},
   "outputs": [],
   "source": [
    "#Count by sales\n",
    "productsCountDF = itemsDF.groupBy(itemsDF.Item).count().withColumnRenamed('count', 'Solds')\n",
    "\n",
    "#Join with names and categories, replacing nulls with 0s\n",
    "productsTotalDF = goodsDF.join(productsCountDF, productsCountDF.Item == goodsDF.Id, 'left').fillna({'Solds':'0'})\n",
    "\n",
    "productsTotalDF.orderBy(productsTotalDF.Id).select(productsTotalDF.Id, \n",
    "                                                   productsTotalDF.Flavor, \n",
    "                                                   productsTotalDF.Food, \n",
    "                                                   productsTotalDF.Solds).repartition(1).write.format('csv').save('./ProductSales')"
   ]
  },
  {
   "cell_type": "code",
   "execution_count": 3,
   "metadata": {},
   "outputs": [],
   "source": [
    "#Count num purchases and filter those with less than 2\n",
    "purchasesCountDF = receiptsDF.groupBy(receiptsDF.CustomerId, receiptsDF.Date).count().withColumnRenamed('count', 'NumPurchases')\n",
    "purchasesCountDF = purchasesCountDF.filter(purchasesCountDF.NumPurchases > 1).drop(purchasesCountDF.NumPurchases)\n",
    "\n",
    "#Append all dates to same Id\n",
    "appendedDatesDF = purchasesCountDF.rdd.reduceByKey(lambda a, b: f\"{a}, {b}\").toDF()\n",
    "\n",
    "#Join clients with their data\n",
    "multiShoppersDF = appendedDatesDF.join(customersDF, appendedDatesDF._1 == customersDF.Id)\n",
    "\n",
    "multiShoppersDF.orderBy(multiShoppersDF.Id).select(multiShoppersDF.Id, \n",
    "                                                   multiShoppersDF.FirstName, \n",
    "                                                   multiShoppersDF.LastName, \n",
    "                                                   multiShoppersDF._2).repartition(1).write.format('csv').save('./MultiShoppers')"
   ]
  },
  {
   "cell_type": "code",
   "execution_count": 4,
   "metadata": {},
   "outputs": [],
   "source": [
    "#Get receipts total\n",
    "receiptsTotalDF = itemsDF.join(goodsDF, itemsDF.Item == goodsDF.Id).groupBy(col(\"Reciept\")).sum().select(col(\"Reciept\"), col(\"sum(Price)\"))\n",
    "\n",
    "#Join with names and categories, replacing nulls with 0s\n",
    "customersTotalDF = receiptsDF.join(receiptsTotalDF, receiptsTotalDF.Reciept == receiptsDF.RecieptNumber).groupBy(col(\"CustomerId\")).sum().select(col(\"CustomerId\"), col(\"sum(sum(Price))\"))\n",
    "\n",
    "#Join customers info with their purchases total amount\n",
    "customersTotalWithNamesDF = customersTotalDF.join(customersDF, customersTotalDF.CustomerId == customersDF.Id).withColumnRenamed(\"sum(sum(Price))\", \"Total amount\")\n",
    "\n",
    "customersTotalWithNamesDF.orderBy(customersTotalWithNamesDF.Id).select(customersTotalWithNamesDF.Id,\n",
    "                                 customersTotalWithNamesDF.FirstName,\n",
    "                                 customersTotalWithNamesDF.LastName, \n",
    "                                 col('Total amount')).repartition(1).write.format('csv').save('./CustomersTotalBill')"
   ]
  }
 ],
 "metadata": {
  "kernelspec": {
   "display_name": "Python 3",
   "language": "python",
   "name": "python3"
  },
  "language_info": {
   "codemirror_mode": {
    "name": "ipython",
    "version": 3
   },
   "file_extension": ".py",
   "mimetype": "text/x-python",
   "name": "python",
   "nbconvert_exporter": "python",
   "pygments_lexer": "ipython3",
   "version": "3.7.0"
  }
 },
 "nbformat": 4,
 "nbformat_minor": 2
}
