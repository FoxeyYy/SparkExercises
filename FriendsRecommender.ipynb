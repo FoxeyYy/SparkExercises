{
 "cells": [
  {
   "cell_type": "code",
   "execution_count": 7,
   "metadata": {},
   "outputs": [],
   "source": [
    "rdd = sc.textFile(\"./listaAmigos.txt\")\n",
    "\n",
    "linesPairRDD = rdd.map(lambda x: x.split()) \\\n",
    "                .map(lambda x: (int(x[0]), list(map(int, x[1].split(\",\"))) if len(x) == 2 else ()))\n",
    "\n",
    "# Generate already friends RDD, possible suggestions RDD, and substract second from first\n",
    "from itertools import combinations\n",
    "\n",
    "def generateFriendsRDD(line):\n",
    "    person = line[0]\n",
    "    friends = line[1]\n",
    "    \n",
    "    return [(tuple(sorted((person, friend))), 0) for friend in friends]\n",
    "\n",
    "def generateCommonFriendsRDD(line):\n",
    "    friends = line[1]\n",
    "    \n",
    "    return [(tuple(sorted(friendsPair)), 1)\n",
    "            for friendsPair in combinations( friends, 2 )]\n",
    "\n",
    "friendsRDD = linesPairRDD.flatMap(generateFriendsRDD)\n",
    "commonFriendsRDD = linesPairRDD.flatMap(generateCommonFriendsRDD)\n",
    "\n",
    "noFriendsRDD = commonFriendsRDD.subtractByKey(friendsRDD) \\\n",
    "                        .reduceByKey(lambda a,b: a + b)\n",
    "\n",
    "#Order them using a Max-heap, then take top 10 for each key\n",
    "import heapq\n",
    "from pyspark.rdd import RDD\n",
    " \n",
    "def takeOrderedByKey(self, num, sortValue = None):\n",
    " \n",
    "        def init(a):\n",
    "            return [a]\n",
    " \n",
    "        def combine(agg, a):\n",
    "            agg.append(a)\n",
    "            return getTopN(agg)\n",
    " \n",
    "        def merge(a, b):\n",
    "            agg = a + b\n",
    "            return getTopN(agg)\n",
    " \n",
    "        def getTopN(agg):\n",
    "            return heapq.nlargest(num, agg, sortValue)          \n",
    " \n",
    "        return self.combineByKey(init, combine, merge)\n",
    "        \n",
    "RDD.takeOrderedByKey = takeOrderedByKey\n",
    "\n",
    "suggestionsRDD = noFriendsRDD.flatMap(lambda x: ((x[0][0], (x[0][1], x[1])), (x[0][1], (x[0][0], x[1])))) \\\n",
    "                            .takeOrderedByKey(10, sortValue=lambda x: (x[1], -x[0])) \\\n",
    "                            .map(lambda x: (x[0], [x[0] for x in x[1]]))\n",
    "\n",
    "suggestionsRDD.sortByKey().repartition(1).saveAsTextFile(\"FriendsSuggestions\")"
   ]
  }
 ],
 "metadata": {
  "kernelspec": {
   "display_name": "Python 3",
   "language": "python",
   "name": "python3"
  },
  "language_info": {
   "codemirror_mode": {
    "name": "ipython",
    "version": 3
   },
   "file_extension": ".py",
   "mimetype": "text/x-python",
   "name": "python",
   "nbconvert_exporter": "python",
   "pygments_lexer": "ipython3",
   "version": "3.7.0"
  }
 },
 "nbformat": 4,
 "nbformat_minor": 2
}
