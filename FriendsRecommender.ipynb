{
 "cells": [
  {
   "cell_type": "code",
   "execution_count": 1,
   "metadata": {},
   "outputs": [],
   "source": [
    "from timeit import default_timer as timer\n",
    "\n",
    "start = timer()\n",
    "rdd = sc.textFile(\"./listaAmigos.txt\")\n",
    "\n",
    "linesPairRDD = rdd.map(lambda x: x.split()) \\\n",
    "                .map(lambda x: (int(x[0]), list(map(int, x[1].split(\",\"))) if len(x) == 2 else ()))"
   ]
  },
  {
   "cell_type": "code",
   "execution_count": 2,
   "metadata": {},
   "outputs": [],
   "source": [
    "# Generate already friends RDD, possible suggestions RDD, and substract second from first\n",
    "from itertools import combinations\n",
    "\n",
    "def generateFriendsRDD(line):\n",
    "    person = line[0]\n",
    "    friends = line[1]\n",
    "    \n",
    "    return [((person, friend), 0) if person < friend else ((friend, person), 0) for friend in friends]\n",
    "\n",
    "def generateCommonFriendsRDD(line):\n",
    "    friends = line[1]\n",
    "    \n",
    "    return [((friendsPair[1], friendsPair[0]), 1) if friendsPair[0] > friendsPair[1] \\\n",
    "            else (friendsPair, 1) \\\n",
    "            for friendsPair in combinations( friends, 2 )]\n",
    "\n",
    "friendsRDD = linesPairRDD.flatMap(generateFriendsRDD)\n",
    "commonFriendsRDD = linesPairRDD.flatMap(generateCommonFriendsRDD)\n",
    "\n",
    "noFriendsRDD = commonFriendsRDD.subtractByKey(friendsRDD) \\\n",
    "                        .reduceByKey(lambda a,b: a + b)"
   ]
  },
  {
   "cell_type": "code",
   "execution_count": 3,
   "metadata": {},
   "outputs": [],
   "source": [
    "#Order them using a Max-heap, then take top 10 for each key\n",
    "import heapq\n",
    "from pyspark.rdd import RDD\n",
    " \n",
    "def takeOrderedByKey(self, num, sortValue = None):\n",
    " \n",
    "        def init(a):\n",
    "            return [a]\n",
    " \n",
    "        def combine(agg, a):\n",
    "            agg.append(a)\n",
    "            return getTopN(agg)\n",
    " \n",
    "        def merge(a, b):\n",
    "            agg = a + b\n",
    "            return getTopN(agg)\n",
    " \n",
    "        def getTopN(agg):\n",
    "            return heapq.nlargest(num, agg, sortValue)          \n",
    " \n",
    "        return self.combineByKey(init, combine, merge)\n",
    "        \n",
    "RDD.takeOrderedByKey = takeOrderedByKey\n",
    "\n",
    "suggestionsRDD = noFriendsRDD.flatMap(lambda x: ((x[0][0], (x[0][1], x[1])), (x[0][1], (x[0][0], x[1])))) \\\n",
    "                            .takeOrderedByKey(10, sortValue=lambda x: (x[1], -x[0])) \\\n",
    "                            .map(lambda x: (x[0], [x[0] for x in x[1]]))"
   ]
  },
  {
   "cell_type": "code",
   "execution_count": 4,
   "metadata": {},
   "outputs": [
    {
     "name": "stdout",
     "output_type": "stream",
     "text": [
      "339.144429716\n"
     ]
    }
   ],
   "source": [
    "suggestionsRDD.sortByKey().repartition(1).saveAsTextFile(\"FriendsSuggestions\")\n",
    "end = timer()\n",
    "print(end - start)\n",
    "#394.764478438"
   ]
  }
 ],
 "metadata": {
  "kernelspec": {
   "display_name": "Python 3",
   "language": "python",
   "name": "python3"
  },
  "language_info": {
   "codemirror_mode": {
    "name": "ipython",
    "version": 3
   },
   "file_extension": ".py",
   "mimetype": "text/x-python",
   "name": "python",
   "nbconvert_exporter": "python",
   "pygments_lexer": "ipython3",
   "version": "3.7.0"
  }
 },
 "nbformat": 4,
 "nbformat_minor": 2
}
