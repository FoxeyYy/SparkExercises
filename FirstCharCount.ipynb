{
 "cells": [
  {
   "cell_type": "code",
   "execution_count": 18,
   "metadata": {},
   "outputs": [],
   "source": [
    "import re\n",
    "\n",
    "rdd = sc.textFile(\"./shakespeare.txt\")\n",
    "\n",
    "def wordTokenizer(line):\n",
    "    words = line.split()\n",
    "    words = [re.sub(r'^[^a-zA-Z]+|[^a-zA-Z]+$', '', word).lower() for word in words]\n",
    "    tokens = filter(lambda word: word, words)\n",
    "    chars = [word[0] for word in tokens]\n",
    "    return chars\n",
    "\n",
    "words = rdd.flatMap(wordTokenizer)\n",
    "pairs = words.map(lambda word: (word, 1))\n",
    "counts = pairs.reduceByKey(lambda a, b: a + b)\n",
    "\n",
    "counts.repartition(1).saveAsTextFile(\"firstCharOutput\")\n",
    "\n"
   ]
  },
  {
   "cell_type": "code",
   "execution_count": null,
   "metadata": {},
   "outputs": [],
   "source": []
  }
 ],
 "metadata": {
  "kernelspec": {
   "display_name": "Python 3",
   "language": "python",
   "name": "python3"
  },
  "language_info": {
   "codemirror_mode": {
    "name": "ipython",
    "version": 3
   },
   "file_extension": ".py",
   "mimetype": "text/x-python",
   "name": "python",
   "nbconvert_exporter": "python",
   "pygments_lexer": "ipython3",
   "version": "3.7.0"
  }
 },
 "nbformat": 4,
 "nbformat_minor": 2
}
